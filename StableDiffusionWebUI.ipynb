{
  "cells": [
    {
      "attachments": {},
      "cell_type": "markdown",
      "metadata": {
        "id": "QlDJIa6zI6Td"
      },
      "source": [
        "# [stable-diffusion-webui-colab](https://github.com/dsymbol/stable-diffusion-webui-colab) Notebook\n",
        "\n",
        "**Remember to use the free resource fairly and not to run a free session for over 12 hours.** You can get [Colab Pro/Pro+](https://colab.research.google.com/signup/pricing) for longer runtimes.\n",
        "\n",
        "Stable Diffusion related issues post an issue [here](https://github.com/AUTOMATIC1111/stable-diffusion-webui/issues/new)  \n",
        "Google Colab related issues post an issue [here](https://github.com/dsymbol/stable-diffusion-webui-colab/issues/new)\n",
        "\n",
        "**Credits**:  \n",
        "[AUTOMATIC1111](https://github.com/AUTOMATIC1111)  \n",
        "[K4YT3X](https://github.com/K4YT3X)"
      ]
    },
    {
      "cell_type": "code",
      "execution_count": null,
      "metadata": {
        "cellView": "form",
        "id": "664RjhIWVjZe"
      },
      "outputs": [],
      "source": [
        "#@title ## Step 0: Runtime Selection\n",
        "\n",
        "#@markdown This step is manual. **You'll need to select a GPU runtime** on the menu bar at the top, select:\n",
        "\n",
        "#@markdown > Runtime > Change runtime type > Hardware accelerator\n",
        "\n",
        "#@markdown Change \"Hardware accelerator\" to GPU and click \"Save.\" After you're done, execute this cell to see the detailed information about the GPU allocated to you (optional).\n",
        "\n",
        "!nvidia-smi"
      ]
    },
    {
      "cell_type": "code",
      "execution_count": null,
      "metadata": {
        "cellView": "form",
        "id": "tWf78A3L1n_Y"
      },
      "outputs": [],
      "source": [
        "#@title ## Step 1: Install stable-diffusion-webui Dependencies\n",
        "\n",
        "!apt-get update -y\n",
        "!apt-get install python3.10 build-essential\n",
        "\n",
        "!update-alternatives --install /usr/bin/python3 python3 /usr/bin/python3.7 1\n",
        "!update-alternatives --install /usr/bin/python3 python3 /usr/bin/python3.10 2\n",
        "\n",
        "!curl -sS https://bootstrap.pypa.io/get-pip.py | python3.10\n",
        "\n",
        "!git clone https://github.com/AUTOMATIC1111/stable-diffusion-webui/\n",
        "%cd stable-diffusion-webui"
      ]
    },
    {
      "cell_type": "code",
      "execution_count": null,
      "metadata": {
        "cellView": "form",
        "id": "fZ8jepdsM-Y-"
      },
      "outputs": [],
      "source": [
        "#@title ## Step 2: Install and Run stable-diffusion-webui\n",
        "\n",
        "#@markdown Once installation is done you will get a link to gradio.app, open it.\n",
        "\n",
        "!python launch.py --share --gradio-debug"
      ]
    },
    {
      "cell_type": "code",
      "execution_count": null,
      "metadata": {
        "cellView": "form",
        "id": "-W9rwRWfZbmh"
      },
      "outputs": [],
      "source": [
        "#@title ## Step 3: Download Creations Folder\n",
        "\n",
        "#@markdown This step is manual. **You'll need to interrupt execution** on the menu bar at the top, select:\n",
        "\n",
        "#@markdown > Runtime > Interrupt execution\n",
        "\n",
        "#@markdown Interrupting execution will stop stable-diffusion-webui so make sure you're done using it.\n",
        "\n",
        "filename = '/content/output.zip'\n",
        "!zip -r \"{filename}\" /content/stable-diffusion-webui/outputs\n",
        "from google.colab import files\n",
        "files.download(filename)"
      ]
    }
  ],
  "metadata": {
    "accelerator": "GPU",
    "colab": {
      "collapsed_sections": [],
      "private_outputs": true,
      "provenance": []
    },
    "kernelspec": {
      "display_name": "Python 3",
      "language": "python",
      "name": "python3"
    },
    "language_info": {
      "name": "python",
      "version": "3.9.9"
    },
    "vscode": {
      "interpreter": {
        "hash": "07104ab99b5eaff3eee6da720040cf4b473815eb699686535eaacce8465eb5d0"
      }
    }
  },
  "nbformat": 4,
  "nbformat_minor": 0
}
