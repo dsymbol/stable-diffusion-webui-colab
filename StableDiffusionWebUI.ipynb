{
  "nbformat": 4,
  "nbformat_minor": 0,
  "metadata": {
    "colab": {
      "provenance": [],
      "collapsed_sections": [],
      "private_outputs": true
    },
    "kernelspec": {
      "name": "python3",
      "display_name": "Python 3"
    },
    "language_info": {
      "name": "python"
    },
    "accelerator": "GPU"
  },
  "cells": [
    {
      "cell_type": "markdown",
      "source": [
        "# [stable-diffusion-webui](https://github.com/AUTOMATIC1111/stable-diffusion-webui) Colab Notebook\n",
        "\n",
        "**Remember to use the free resource fairly and not to run a free session for over 12 hours.** You can get [Colab Pro/Pro+](https://colab.research.google.com/signup/pricing) for longer runtimes.\n",
        "\n",
        "Stable Diffusion related issues post an issue [here](https://github.com/AUTOMATIC1111/stable-diffusion-webui/issues/new)  \n",
        "Google Colab related issues post an issue [here](https://github.com/dsymbol/stable-diffusion-webui-colab/issues/new)\n",
        "\n",
        "**Credits**:  \n",
        "[AUTOMATIC1111](https://github.com/AUTOMATIC1111)  \n",
        "[K4YT3X](https://github.com/K4YT3X)"
      ],
      "metadata": {
        "id": "QlDJIa6zI6Td"
      }
    },
    {
      "cell_type": "code",
      "source": [
        "#@title ## Step 0: Runtime Selection\n",
        "\n",
        "#@markdown This step is manual. **You'll need to select a GPU runtime** on the menu bar at the top, select:\n",
        "\n",
        "#@markdown > Runtime > Change runtime type > Hardware accelerator\n",
        "\n",
        "#@markdown Change \"Hardware accelerator\" to GPU and click \"Save.\" After you're done, execute this cell to see the detailed information about the GPU allocated to you (optional).\n",
        "\n",
        "!nvidia-smi"
      ],
      "metadata": {
        "id": "664RjhIWVjZe",
        "cellView": "form"
      },
      "execution_count": null,
      "outputs": []
    },
    {
      "cell_type": "code",
      "source": [
        "#@title ## Step 1: Install stable-diffusion-webui Dependencies\n",
        "\n",
        "!apt-get update -y\n",
        "!apt-get install python3.10 build-essential\n",
        "\n",
        "!update-alternatives --install /usr/bin/python3 python3 /usr/bin/python3.7 1\n",
        "!update-alternatives --install /usr/bin/python3 python3 /usr/bin/python3.10 2\n",
        "\n",
        "!curl -sS https://bootstrap.pypa.io/get-pip.py | python3.10\n",
        "\n",
        "!git clone https://github.com/AUTOMATIC1111/stable-diffusion-webui/\n",
        "%cd stable-diffusion-webui"
      ],
      "metadata": {
        "id": "tWf78A3L1n_Y",
        "cellView": "form"
      },
      "execution_count": null,
      "outputs": []
    },
    {
      "cell_type": "code",
      "source": [
        "#@title ## Step 2: Download 1.4 Stable Diffusion Model\n",
        "\n",
        "#@markdown HOWTO: Get a token [here](https://github.com/dsymbol/stable-diffusion-webui-colab#hugging-face-token).\n",
        "\n",
        "user_token = \"\" #@param {type:\"string\"}\n",
        "user_header = f\"\\\"Authorization: Bearer {user_token}\\\"\"\n",
        "!wget --header={user_header} https://huggingface.co/CompVis/stable-diffusion-v-1-4-original/resolve/main/sd-v1-4.ckpt -O /content/stable-diffusion-webui/models/Stable-diffusion/sd-v1-4.ckpt"
      ],
      "metadata": {
        "id": "AGiMH-UOKgRh",
        "cellView": "form"
      },
      "execution_count": null,
      "outputs": []
    },
    {
      "cell_type": "code",
      "source": [
        "#@title ## Step 3: Install and Run stable-diffusion-webui\n",
        "\n",
        "#@markdown Once installation is done you will get a link to gradio.app, open it.\n",
        "\n",
        "!python launch.py --share --gradio-debug\n",
        "!python -m pip install -U setuptools\n",
        "!python launch.py --share --gradio-debug"
      ],
      "metadata": {
        "id": "fZ8jepdsM-Y-",
        "cellView": "form"
      },
      "execution_count": null,
      "outputs": []
    },
    {
      "cell_type": "code",
      "source": [
        "#@title ## Step 4: Download Creations Folder\n",
        "\n",
        "#@markdown This step is manual. **You'll need to interrupt execution** on the menu bar at the top, select:\n",
        "\n",
        "#@markdown > Runtime > Interrupt execution\n",
        "\n",
        "#@markdown Interrupting execution will stop stable-diffusion-webui so make sure you're done using it.\n",
        "\n",
        "filename = '/content/output.zip'\n",
        "!zip -r \"{filename}\" /content/stable-diffusion-webui/outputs\n",
        "from google.colab import files\n",
        "files.download(filename)"
      ],
      "metadata": {
        "cellView": "form",
        "id": "-W9rwRWfZbmh"
      },
      "execution_count": null,
      "outputs": []
    }
  ]
}